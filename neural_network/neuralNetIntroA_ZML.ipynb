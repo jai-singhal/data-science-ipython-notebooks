{
  "nbformat": 4,
  "nbformat_minor": 0,
  "metadata": {
    "colab": {
      "name": "neuralNetIntroA-ZML.ipynb",
      "version": "0.3.2",
      "provenance": [],
      "collapsed_sections": [],
      "include_colab_link": true
    },
    "kernelspec": {
      "name": "python3",
      "display_name": "Python 3"
    },
    "accelerator": "TPU"
  },
  "cells": [
    {
      "cell_type": "markdown",
      "metadata": {
        "id": "view-in-github",
        "colab_type": "text"
      },
      "source": [
        "<a href=\"https://colab.research.google.com/github/jai-singhal/data-science-ipython-notebooks/blob/master/neural_network/neuralNetIntroA_ZML.ipynb\" target=\"_parent\"><img src=\"https://colab.research.google.com/assets/colab-badge.svg\" alt=\"Open In Colab\"/></a>"
      ]
    },
    {
      "cell_type": "code",
      "metadata": {
        "id": "rzPhxJZ50GAX",
        "colab_type": "code",
        "colab": {}
      },
      "source": [
        "import numpy as np\n",
        "import pandas as pd\n",
        "import matplotlib.pyplot as plt"
      ],
      "execution_count": 0,
      "outputs": []
    },
    {
      "cell_type": "code",
      "metadata": {
        "id": "TUXswzMf0atR",
        "colab_type": "code",
        "outputId": "12286738-c5e9-4479-d252-237697a88c7b",
        "colab": {
          "base_uri": "https://localhost:8080/",
          "height": 128
        }
      },
      "source": [
        "# 1. Data preprocessing\n",
        "\n",
        "dataset = pd.read_csv(\"./Churn_Modelling.csv\", encoding=\"utf-8\")\n",
        "dataset.head(2)"
      ],
      "execution_count": 0,
      "outputs": [
        {
          "output_type": "execute_result",
          "data": {
            "text/html": [
              "<div>\n",
              "<style scoped>\n",
              "    .dataframe tbody tr th:only-of-type {\n",
              "        vertical-align: middle;\n",
              "    }\n",
              "\n",
              "    .dataframe tbody tr th {\n",
              "        vertical-align: top;\n",
              "    }\n",
              "\n",
              "    .dataframe thead th {\n",
              "        text-align: right;\n",
              "    }\n",
              "</style>\n",
              "<table border=\"1\" class=\"dataframe\">\n",
              "  <thead>\n",
              "    <tr style=\"text-align: right;\">\n",
              "      <th></th>\n",
              "      <th>RowNumber</th>\n",
              "      <th>CustomerId</th>\n",
              "      <th>Surname</th>\n",
              "      <th>CreditScore</th>\n",
              "      <th>Geography</th>\n",
              "      <th>Gender</th>\n",
              "      <th>Age</th>\n",
              "      <th>Tenure</th>\n",
              "      <th>Balance</th>\n",
              "      <th>NumOfProducts</th>\n",
              "      <th>HasCrCard</th>\n",
              "      <th>IsActiveMember</th>\n",
              "      <th>EstimatedSalary</th>\n",
              "      <th>Exited</th>\n",
              "    </tr>\n",
              "  </thead>\n",
              "  <tbody>\n",
              "    <tr>\n",
              "      <th>0</th>\n",
              "      <td>1</td>\n",
              "      <td>15634602</td>\n",
              "      <td>Hargrave</td>\n",
              "      <td>619</td>\n",
              "      <td>France</td>\n",
              "      <td>Female</td>\n",
              "      <td>42</td>\n",
              "      <td>2</td>\n",
              "      <td>0.00</td>\n",
              "      <td>1</td>\n",
              "      <td>1</td>\n",
              "      <td>1</td>\n",
              "      <td>101348.88</td>\n",
              "      <td>1</td>\n",
              "    </tr>\n",
              "    <tr>\n",
              "      <th>1</th>\n",
              "      <td>2</td>\n",
              "      <td>15647311</td>\n",
              "      <td>Hill</td>\n",
              "      <td>608</td>\n",
              "      <td>Spain</td>\n",
              "      <td>Female</td>\n",
              "      <td>41</td>\n",
              "      <td>1</td>\n",
              "      <td>83807.86</td>\n",
              "      <td>1</td>\n",
              "      <td>0</td>\n",
              "      <td>1</td>\n",
              "      <td>112542.58</td>\n",
              "      <td>0</td>\n",
              "    </tr>\n",
              "  </tbody>\n",
              "</table>\n",
              "</div>"
            ],
            "text/plain": [
              "   RowNumber  CustomerId   Surname  ...  IsActiveMember EstimatedSalary Exited\n",
              "0          1    15634602  Hargrave  ...               1       101348.88      1\n",
              "1          2    15647311      Hill  ...               1       112542.58      0\n",
              "\n",
              "[2 rows x 14 columns]"
            ]
          },
          "metadata": {
            "tags": []
          },
          "execution_count": 72
        }
      ]
    },
    {
      "cell_type": "code",
      "metadata": {
        "id": "w21XoZuh6CSg",
        "colab_type": "code",
        "outputId": "849a345b-31b5-4f0d-9616-15e06f7a62c3",
        "colab": {
          "base_uri": "https://localhost:8080/",
          "height": 146
        }
      },
      "source": [
        "# Input and Output\n",
        "X = dataset.iloc[:, 3:13].values\n",
        "Y = dataset.iloc[:, [13]].values\n",
        "\n",
        "# 2. Encoding the categorical data\n",
        "from sklearn.preprocessing import LabelEncoder, OneHotEncoder\n",
        "\n",
        "labelEncoderX1 = LabelEncoder()\n",
        "X[:, 1] = labelEncoderX1.fit_transform(X[:, 1])\n",
        "\n",
        "labelEncoderX2 = LabelEncoder()\n",
        "X[:, 2] = labelEncoderX2.fit_transform(X[:, 2])\n",
        "\n",
        "one_hot_enc = OneHotEncoder(categorical_features=[1])\n",
        "X = one_hot_enc.fit_transform(X).toarray()\n",
        "\n",
        "X = X[:, 1:]"
      ],
      "execution_count": 0,
      "outputs": [
        {
          "output_type": "stream",
          "text": [
            "/usr/local/lib/python3.6/dist-packages/sklearn/preprocessing/_encoders.py:415: FutureWarning: The handling of integer data will change in version 0.22. Currently, the categories are determined based on the range [0, max(values)], while in the future they will be determined based on the unique values.\n",
            "If you want the future behaviour and silence this warning, you can specify \"categories='auto'\".\n",
            "In case you used a LabelEncoder before this OneHotEncoder to convert the categories to integers, then you can now use the OneHotEncoder directly.\n",
            "  warnings.warn(msg, FutureWarning)\n",
            "/usr/local/lib/python3.6/dist-packages/sklearn/preprocessing/_encoders.py:451: DeprecationWarning: The 'categorical_features' keyword is deprecated in version 0.20 and will be removed in 0.22. You can use the ColumnTransformer instead.\n",
            "  \"use the ColumnTransformer instead.\", DeprecationWarning)\n"
          ],
          "name": "stderr"
        }
      ]
    },
    {
      "cell_type": "code",
      "metadata": {
        "id": "qjIXKYE29HpG",
        "colab_type": "code",
        "outputId": "975399dd-ad74-46fc-9d6d-2e1e7c5738cd",
        "colab": {
          "base_uri": "https://localhost:8080/",
          "height": 72
        }
      },
      "source": [
        "# Splitting Test and Train set\n",
        "from sklearn.model_selection import train_test_split\n",
        "x_train, x_test, y_train,  y_test = train_test_split(X, Y, train_size = 0.22)\n",
        "\n",
        "# feature scaling\n",
        "from sklearn.preprocessing import StandardScaler\n",
        "\n",
        "sc = StandardScaler()\n",
        "x_train = sc.fit_transform(x_train)\n",
        "x_test = sc.transform(x_test)\n",
        "x_train[0]"
      ],
      "execution_count": 0,
      "outputs": [
        {
          "output_type": "execute_result",
          "data": {
            "text/plain": [
              "array([-0.58574853,  1.70925967,  0.10252084,  0.8995613 , -0.15811992,\n",
              "       -0.34152197,  1.25182691, -0.89691356,  0.65252886, -0.98825083,\n",
              "       -0.91021849])"
            ]
          },
          "metadata": {
            "tags": []
          },
          "execution_count": 74
        }
      ]
    },
    {
      "cell_type": "code",
      "metadata": {
        "id": "HVbTcdtTSU2U",
        "colab_type": "code",
        "outputId": "1c262a2e-39ce-4a48-f132-2c4699259e62",
        "colab": {
          "base_uri": "https://localhost:8080/",
          "height": 1000
        }
      },
      "source": [
        "# Part 2: Create ANN\n",
        "# import tensorflow as tf\n",
        "# import theano as th\n",
        "import keras\n",
        "from keras.models import Sequential\n",
        "from keras.layers import Dense\n",
        "\n",
        "# Initialize the ANN\n",
        "classifier = Sequential()\n",
        "\n",
        "# Adding the First hidden layer\n",
        "classifier.add(\n",
        "    Dense(\n",
        "        output_dim = 6, \n",
        "        init='uniform', \n",
        "        input_dim = 11, \n",
        "        activation = \"relu\"\n",
        "    )\n",
        ")\n",
        "\n",
        "# Adding the Second hidden layer\n",
        "classifier.add(\n",
        "    Dense(\n",
        "        output_dim = 6, \n",
        "        init='uniform', \n",
        "        activation = \"relu\"\n",
        "    )\n",
        ")\n",
        "\n",
        "\n",
        "# Adding the Output layer\n",
        "classifier.add(\n",
        "    Dense(\n",
        "        output_dim = 1, \n",
        "        init='uniform', \n",
        "        activation = \"sigmoid\",\n",
        "        input_dim = 6, \n",
        "    )\n",
        ")\n",
        "\n",
        "# Compiling the ANN\n",
        "#categorical_crossentropy\n",
        "classifier.compile(optimizer = \"adam\", loss = \"binary_crossentropy\", metrics=[\"accuracy\"])\n",
        "\n",
        "\n",
        "classifier.fit(x_train, y_train, batch_size = 10, nb_epoch = 50)"
      ],
      "execution_count": 0,
      "outputs": [
        {
          "output_type": "stream",
          "text": [
            "/usr/local/lib/python3.6/dist-packages/ipykernel_launcher.py:14: UserWarning: Update your `Dense` call to the Keras 2 API: `Dense(input_dim=11, activation=\"relu\", units=6, kernel_initializer=\"uniform\")`\n",
            "  \n",
            "/usr/local/lib/python3.6/dist-packages/ipykernel_launcher.py:23: UserWarning: Update your `Dense` call to the Keras 2 API: `Dense(activation=\"relu\", units=6, kernel_initializer=\"uniform\")`\n",
            "/usr/local/lib/python3.6/dist-packages/ipykernel_launcher.py:34: UserWarning: Update your `Dense` call to the Keras 2 API: `Dense(activation=\"sigmoid\", input_dim=6, units=1, kernel_initializer=\"uniform\")`\n",
            "/usr/local/lib/python3.6/dist-packages/ipykernel_launcher.py:43: UserWarning: The `nb_epoch` argument in `fit` has been renamed `epochs`.\n"
          ],
          "name": "stderr"
        },
        {
          "output_type": "stream",
          "text": [
            "Epoch 1/50\n",
            "2200/2200 [==============================] - 2s 863us/step - loss: 0.4911 - acc: 0.8005\n",
            "Epoch 2/50\n",
            "2200/2200 [==============================] - 1s 591us/step - loss: 0.4298 - acc: 0.8005\n",
            "Epoch 3/50\n",
            "2200/2200 [==============================] - 1s 590us/step - loss: 0.4260 - acc: 0.8005\n",
            "Epoch 4/50\n",
            "2200/2200 [==============================] - 1s 592us/step - loss: 0.4228 - acc: 0.8005\n",
            "Epoch 5/50\n",
            "2200/2200 [==============================] - 1s 581us/step - loss: 0.4199 - acc: 0.8005\n",
            "Epoch 6/50\n",
            "2200/2200 [==============================] - 1s 607us/step - loss: 0.4188 - acc: 0.8136\n",
            "Epoch 7/50\n",
            "2200/2200 [==============================] - 1s 590us/step - loss: 0.4160 - acc: 0.8218\n",
            "Epoch 8/50\n",
            "2200/2200 [==============================] - 1s 583us/step - loss: 0.4155 - acc: 0.8268\n",
            "Epoch 9/50\n",
            "2200/2200 [==============================] - 1s 585us/step - loss: 0.4135 - acc: 0.8305\n",
            "Epoch 10/50\n",
            "2200/2200 [==============================] - 1s 582us/step - loss: 0.4123 - acc: 0.8309\n",
            "Epoch 11/50\n",
            "2200/2200 [==============================] - 1s 589us/step - loss: 0.4122 - acc: 0.8295\n",
            "Epoch 12/50\n",
            "2200/2200 [==============================] - 1s 597us/step - loss: 0.4106 - acc: 0.8305\n",
            "Epoch 13/50\n",
            "2200/2200 [==============================] - 1s 595us/step - loss: 0.4096 - acc: 0.8332\n",
            "Epoch 14/50\n",
            "2200/2200 [==============================] - 1s 605us/step - loss: 0.4088 - acc: 0.8309\n",
            "Epoch 15/50\n",
            "2200/2200 [==============================] - 1s 590us/step - loss: 0.4079 - acc: 0.8345\n",
            "Epoch 16/50\n",
            "2200/2200 [==============================] - 1s 593us/step - loss: 0.4076 - acc: 0.8323\n",
            "Epoch 17/50\n",
            "2200/2200 [==============================] - 1s 580us/step - loss: 0.4062 - acc: 0.8332\n",
            "Epoch 18/50\n",
            "2200/2200 [==============================] - 1s 596us/step - loss: 0.4057 - acc: 0.8341\n",
            "Epoch 19/50\n",
            "2200/2200 [==============================] - 1s 582us/step - loss: 0.4049 - acc: 0.8332\n",
            "Epoch 20/50\n",
            "2200/2200 [==============================] - 1s 590us/step - loss: 0.4040 - acc: 0.8345\n",
            "Epoch 21/50\n",
            "2200/2200 [==============================] - 1s 589us/step - loss: 0.4049 - acc: 0.8336\n",
            "Epoch 22/50\n",
            "2200/2200 [==============================] - 1s 587us/step - loss: 0.4040 - acc: 0.8341\n",
            "Epoch 23/50\n",
            "2200/2200 [==============================] - 1s 611us/step - loss: 0.4036 - acc: 0.8377\n",
            "Epoch 24/50\n",
            "2200/2200 [==============================] - 1s 591us/step - loss: 0.4030 - acc: 0.8345\n",
            "Epoch 25/50\n",
            "2200/2200 [==============================] - 1s 595us/step - loss: 0.4029 - acc: 0.8345\n",
            "Epoch 26/50\n",
            "2200/2200 [==============================] - 1s 599us/step - loss: 0.4025 - acc: 0.8350\n",
            "Epoch 27/50\n",
            "2200/2200 [==============================] - 1s 591us/step - loss: 0.4023 - acc: 0.8382\n",
            "Epoch 28/50\n",
            "2200/2200 [==============================] - 1s 586us/step - loss: 0.4013 - acc: 0.8373\n",
            "Epoch 29/50\n",
            "2200/2200 [==============================] - 1s 593us/step - loss: 0.4016 - acc: 0.8373\n",
            "Epoch 30/50\n",
            "2200/2200 [==============================] - 1s 597us/step - loss: 0.4007 - acc: 0.8364\n",
            "Epoch 31/50\n",
            "2200/2200 [==============================] - 1s 595us/step - loss: 0.4007 - acc: 0.8368\n",
            "Epoch 32/50\n",
            "2200/2200 [==============================] - 1s 595us/step - loss: 0.3999 - acc: 0.8364\n",
            "Epoch 33/50\n",
            "2200/2200 [==============================] - 1s 606us/step - loss: 0.4008 - acc: 0.8364\n",
            "Epoch 34/50\n",
            "2200/2200 [==============================] - 1s 588us/step - loss: 0.4007 - acc: 0.8364\n",
            "Epoch 35/50\n",
            "2200/2200 [==============================] - 1s 590us/step - loss: 0.3997 - acc: 0.8341\n",
            "Epoch 36/50\n",
            "2200/2200 [==============================] - 1s 604us/step - loss: 0.3999 - acc: 0.8364\n",
            "Epoch 37/50\n",
            "2200/2200 [==============================] - 1s 584us/step - loss: 0.3992 - acc: 0.8373\n",
            "Epoch 38/50\n",
            "2200/2200 [==============================] - 1s 596us/step - loss: 0.3981 - acc: 0.8373\n",
            "Epoch 39/50\n",
            "2200/2200 [==============================] - 1s 596us/step - loss: 0.3992 - acc: 0.8400\n",
            "Epoch 40/50\n",
            "2200/2200 [==============================] - 1s 591us/step - loss: 0.3986 - acc: 0.8355\n",
            "Epoch 41/50\n",
            "2200/2200 [==============================] - 1s 592us/step - loss: 0.3996 - acc: 0.8350\n",
            "Epoch 42/50\n",
            "2200/2200 [==============================] - 1s 587us/step - loss: 0.3987 - acc: 0.8391\n",
            "Epoch 43/50\n",
            "2200/2200 [==============================] - 1s 598us/step - loss: 0.3977 - acc: 0.8382\n",
            "Epoch 44/50\n",
            "2200/2200 [==============================] - 1s 628us/step - loss: 0.3992 - acc: 0.8359\n",
            "Epoch 45/50\n",
            "2200/2200 [==============================] - 1s 639us/step - loss: 0.3977 - acc: 0.8341\n",
            "Epoch 46/50\n",
            "2200/2200 [==============================] - 1s 663us/step - loss: 0.3983 - acc: 0.8355\n",
            "Epoch 47/50\n",
            "2200/2200 [==============================] - 1s 639us/step - loss: 0.3981 - acc: 0.8359\n",
            "Epoch 48/50\n",
            "2200/2200 [==============================] - 1s 638us/step - loss: 0.3980 - acc: 0.8359\n",
            "Epoch 49/50\n",
            "2200/2200 [==============================] - 1s 594us/step - loss: 0.3976 - acc: 0.8355\n",
            "Epoch 50/50\n",
            "2200/2200 [==============================] - 1s 592us/step - loss: 0.3971 - acc: 0.8345\n"
          ],
          "name": "stdout"
        },
        {
          "output_type": "execute_result",
          "data": {
            "text/plain": [
              "<keras.callbacks.History at 0x7f23491f9208>"
            ]
          },
          "metadata": {
            "tags": []
          },
          "execution_count": 90
        }
      ]
    },
    {
      "cell_type": "code",
      "metadata": {
        "id": "dPZDBrntkVoe",
        "colab_type": "code",
        "outputId": "a93ab8bf-9999-4563-ef54-3bf827dd052e",
        "colab": {
          "base_uri": "https://localhost:8080/",
          "height": 145
        }
      },
      "source": [
        "y_pred = classifier.predict(x_test)\n",
        "y_pred"
      ],
      "execution_count": 0,
      "outputs": [
        {
          "output_type": "execute_result",
          "data": {
            "text/plain": [
              "array([[0.6437708 ],\n",
              "       [0.11180741],\n",
              "       [0.14201832],\n",
              "       ...,\n",
              "       [0.74368346],\n",
              "       [0.06483722],\n",
              "       [0.12568489]], dtype=float32)"
            ]
          },
          "metadata": {
            "tags": []
          },
          "execution_count": 92
        }
      ]
    }
  ]
}